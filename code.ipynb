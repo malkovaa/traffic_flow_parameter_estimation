{
 "cells": [
  {
   "cell_type": "code",
   "execution_count": 2,
   "metadata": {},
   "outputs": [
    {
     "name": "stderr",
     "output_type": "stream",
     "text": [
      "/Users/aleksandramalkova/anaconda2/lib/python2.7/site-packages/statsmodels/compat/pandas.py:56: FutureWarning: The pandas.core.datetools module is deprecated and will be removed in a future version. Please use the pandas.tseries module instead.\n",
      "  from pandas.core import datetools\n"
     ]
    }
   ],
   "source": [
    "import pandas as pd\n",
    "import numpy as np\n",
    "import datetime\n",
    "import matplotlib.pyplot as plt\n",
    "from mpl_toolkits import mplot3d\n",
    "import statsmodels.api as sm\n",
    "import scipy.stats as stats\n",
    "from scipy.stats import multivariate_normal\n",
    "%matplotlib inline\n",
    "from random import randint\n",
    "from tqdm import tqdm_notebook\n",
    "from operator import mul"
   ]
  },
  {
   "cell_type": "code",
   "execution_count": 2,
   "metadata": {
    "collapsed": true
   },
   "outputs": [],
   "source": []
  },
  {
   "cell_type": "markdown",
   "metadata": {},
   "source": [
    "## * example of the sequential learning of the density vector, Section 2.4"
   ]
  },
  {
   "cell_type": "markdown",
   "metadata": {},
   "source": [
    "computing initial vector of densities"
   ]
  },
  {
   "cell_type": "code",
   "execution_count": 3,
   "metadata": {
    "collapsed": true
   },
   "outputs": [],
   "source": [
    "def init_condition(I,L,n_max):\n",
    "    dx=L/I\n",
    "    n0=np.zeros(I)\n",
    "    for i in range(I):\n",
    "        #Shock moving backward  \n",
    "        if i+1<3./4*I:\n",
    "            n0[i]= 4./10*n_max\n",
    "        else:\n",
    "            n0[i]= 8./10*n_max\n",
    "    print n0\n",
    "#         #Shock moving forward  \n",
    "#         if i+1<3/4*I:\n",
    "#             n0[i]= 2/10*n_max\n",
    "#         else:\n",
    "#             n0[i]= 6/10*n_max\n",
    "\n",
    "#         #Rarefaction waves \n",
    "#         if i+1<3/4*I:\n",
    "#             n0[i]= 7/10*n_max\n",
    "#         else:\n",
    "#             n0[i]= 3/10*n_max\n",
    "    return n0\n"
   ]
  },
  {
   "cell_type": "markdown",
   "metadata": {},
   "source": [
    "calculation of the speed according to the density vector values (triangular FD) "
   ]
  },
  {
   "cell_type": "code",
   "execution_count": 4,
   "metadata": {
    "collapsed": true
   },
   "outputs": [],
   "source": [
    "def calcn_V(n,V_max,n_max):\n",
    "    I = len(n)\n",
    "    V = np.zeros(I)\n",
    "    for i in range(I):\n",
    "        if n[i] <= n_max/3.:\n",
    "            V[i] = V_max\n",
    "        else:\n",
    "            V[i] = (n_max/n[i]-1)*V_max/2.\n",
    "        rho_crit = n_max/3.\n",
    "        flux_max = rho_crit*V_max\n",
    "        \n",
    "    return V, rho_crit, flux_max"
   ]
  },
  {
   "cell_type": "markdown",
   "metadata": {},
   "source": [
    "propagation of the next state"
   ]
  },
  {
   "cell_type": "code",
   "execution_count": 5,
   "metadata": {
    "collapsed": true
   },
   "outputs": [],
   "source": [
    "def calcn_propagation_1D(n0,dt,dx,flux_inflow,flux_outflow,V_max,n_max):\n",
    "    I=len(n0)\n",
    "    n=np.zeros(I)\n",
    "    lam=dt/dx\n",
    "    \n",
    "#     print 'length ', len(n)\n",
    "    \n",
    "    V0,rho_crit,flux_max = calcn_V(n0,V_max,n_max) # remove or not\n",
    "    \n",
    "    for i in range(1,I-1):\n",
    "        gi_next = min(V0[i]*n0[i], V0[i+1]*n0[i+1])*(n0[i] <= n0[i+1]) \\\n",
    "                +V0[i]*n0[i]*(n0[i+1] < n0[i])*(n0[i] <= rho_crit) \\\n",
    "                +flux_max*(n0[i+1] < rho_crit)*(rho_crit < n0[i]) \\\n",
    "                +V0[i+1]*n0[i+1]*(rho_crit <= n0[i+1])*(n0[i+1] < n0[i])\n",
    "                \n",
    "        gi_prev = min(V0[i-1]*n0[i-1], V0[i]*n0[i])*(n0[i-1] <= n0[i]) \\\n",
    "                +V0[i-1]*n0[i-1]*(n0[i] < n0[i-1])*(n0[i-1] <= rho_crit) \\\n",
    "                +flux_max*(n0[i] < rho_crit)*(rho_crit < n0[i-1]) \\\n",
    "                +V0[i]*n0[i]*(rho_crit <= n0[i])*(n0[i] < n0[i-1])\n",
    "                \n",
    "        n[i] = n0[i] - lam*(gi_next - gi_prev)\n",
    "    \n",
    "#     print 'prop inside', n\n",
    "    \n",
    "    # Entering Cell\n",
    "    g1_next = min(V0[1]*n0[0], V0[1]*n0[1])*(n0[0] <= n0[1]) \\\n",
    "            +V0[0]*n0[0]*(n0[1] < n0[0])*(n0[0] <= rho_crit) \\\n",
    "            +flux_max*(n0[1] < rho_crit)*(rho_crit < n0[0]) \\\n",
    "            +V0[1]*n0[1]*(rho_crit <= n0[1])*(n0[1] < n0[0])\n",
    "    g1_prev = min(V0[0]*n0[0], flux_inflow)*(n0[0] > rho_crit) \\\n",
    "        +flux_inflow*(n0[0] <= rho_crit)\n",
    "    n[0]=n0[0]-lam*( g1_next - g1_prev )\n",
    "    \n",
    "    #Leaving Cell\n",
    "    gI_next = min(V0[I-1]*n0[I-1],flux_outflow)*(n0[I-1] <= rho_crit) \\\n",
    "        +V0[I-1]*n0[I-1]*(n0[I-1] > rho_crit)\n",
    "    gI_prev = min(V0[I-2]*n0[I-2], V0[I-1]*n0[I-1])*(n0[I-2] <= n0[I-1]) \\\n",
    "            +V0[I-2]*n0[I-2]*(n0[I-1] < n0[I-2])*(n0[I-2] <= rho_crit) \\\n",
    "            +flux_max*(n0[I-1] < rho_crit)*(rho_crit < n0[I-2]) \\\n",
    "            +V0[I-1]*n0[I-1]*(rho_crit <= n0[I-1])*(n0[I-1] < n0[I-2])\n",
    "    n[I-1]=n0[I-1]-lam*( gI_next - gI_prev )\n",
    "    \n",
    "#     print 'propagation ', n\n",
    "    \n",
    "    return n"
   ]
  },
  {
   "cell_type": "markdown",
   "metadata": {},
   "source": [
    "main code"
   ]
  },
  {
   "cell_type": "code",
   "execution_count": 12,
   "metadata": {
    "collapsed": true
   },
   "outputs": [],
   "source": [
    "def script_LWR_first():\n",
    "    I=100\n",
    "    L=1. # Length of the Road\n",
    "    V_max=1. # Speed limit\n",
    "    n_max=1. # Maximum density\n",
    "    cfl=0.5\n",
    "    \n",
    "    dx=L/I # Space Discretisation\n",
    "\n",
    "    n0 = init_condition(I,L,n_max) # Initial condition for \n",
    "    print 'init cond ', n0\n",
    "    plt.plot(n0)\n",
    "    init_V = calcn_V(n0, V_max, n_max) # Define the Fundam considered within this function\n",
    "\n",
    "    flux_inflow, flux_outflow = 0.1, 0.2 # Set the inflow condition and allowed outflow\n",
    "    \n",
    "    dt=cfl*dx/V_max\n",
    "    t=0\n",
    "    t_max=2 # Final Time of the simulation\n",
    "    n=n0\n",
    "    k = 1\n",
    "    while t < t_max:\n",
    "        n = calcn_propagation_1D(n,dt,dx,flux_inflow,flux_outflow,V_max,n_max)\n",
    "#         print n\n",
    "#         print n\n",
    "#         plt.figure()\n",
    "        plt.xlabel('number of a cell, i')\n",
    "        plt.ylabel('density value')\n",
    "        k += 1\n",
    "        if k%21==0:\n",
    "            plt.plot(n)\n",
    "        t = t + dt\n",
    "        "
   ]
  },
  {
   "cell_type": "code",
   "execution_count": null,
   "metadata": {
    "collapsed": true
   },
   "outputs": [],
   "source": []
  },
  {
   "cell_type": "code",
   "execution_count": 13,
   "metadata": {},
   "outputs": [
    {
     "name": "stdout",
     "output_type": "stream",
     "text": [
      "[0.4 0.4 0.4 0.4 0.4 0.4 0.4 0.4 0.4 0.4 0.4 0.4 0.4 0.4 0.4 0.4 0.4 0.4\n",
      " 0.4 0.4 0.4 0.4 0.4 0.4 0.4 0.4 0.4 0.4 0.4 0.4 0.4 0.4 0.4 0.4 0.4 0.4\n",
      " 0.4 0.4 0.4 0.4 0.4 0.4 0.4 0.4 0.4 0.4 0.4 0.4 0.4 0.4 0.4 0.4 0.4 0.4\n",
      " 0.4 0.4 0.4 0.4 0.4 0.4 0.4 0.4 0.4 0.4 0.4 0.4 0.4 0.4 0.4 0.4 0.4 0.4\n",
      " 0.4 0.4 0.8 0.8 0.8 0.8 0.8 0.8 0.8 0.8 0.8 0.8 0.8 0.8 0.8 0.8 0.8 0.8\n",
      " 0.8 0.8 0.8 0.8 0.8 0.8 0.8 0.8 0.8 0.8]\n"
     ]
    },
    {
     "data": {
      "image/png": "[encoded data removed]",
      "text/plain": [
       "<matplotlib.figure.Figure at 0x119bc27d0>"
      ]
     },
     "metadata": {},
     "output_type": "display_data"
    }
   ],
   "source": [
    "script_LWR_first()"
   ]
  },
  {
   "cell_type": "markdown",
   "metadata": {},
   "source": [
    "### start of the code\n"
   ]
  },
  {
   "cell_type": "markdown",
   "metadata": {},
   "source": [
    "calculation of the flow by density vector (parabolic FD)"
   ]
  },
  {
   "cell_type": "code",
   "execution_count": 14,
   "metadata": {
    "collapsed": true
   },
   "outputs": [],
   "source": [
    "def calcn_flow_parab(n, flux_max,rho_crit, n_max):\n",
    "    I = len(n)\n",
    "    q = np.zeros(I)\n",
    "    rho_max = 2*rho_crit  \n",
    "    for i in range(I):\n",
    "        q[i] = n[i]*(1-n[i]/rho_max)*4*flux_max/rho_max\n",
    "    return q"
   ]
  },
  {
   "cell_type": "markdown",
   "metadata": {},
   "source": [
    "calculation of the flow by density vector (triangular FD)"
   ]
  },
  {
   "cell_type": "code",
   "execution_count": 15,
   "metadata": {
    "collapsed": true
   },
   "outputs": [],
   "source": [
    "def calcn_flow(n,flux_max,rho_crit,n_max):\n",
    "    I = len(n)\n",
    "    q = np.zeros(I)\n",
    "    for i in range(I):\n",
    "        if n[i] < rho_crit:\n",
    "            q[i] = flux_max/rho_crit * n[i]\n",
    "        else:\n",
    "            q[i] = flux_max*(n_max - n[i])/(n_max - rho_crit)\n",
    "    return q"
   ]
  },
  {
   "cell_type": "markdown",
   "metadata": {},
   "source": [
    "calculation of the next state "
   ]
  },
  {
   "cell_type": "code",
   "execution_count": 16,
   "metadata": {
    "collapsed": true
   },
   "outputs": [],
   "source": [
    "def calcn_propagation(n0,lam,flux_inflow,flux_outflow,rho_crit,n_max,flux_max, compare_models):\n",
    "    I=len(n0)\n",
    "    n=np.zeros(I)\n",
    "\n",
    "    rho_max = 2*rho_crit \n",
    "\n",
    "    if compare_models:\n",
    "        q0 = calcn_flow_parab(n0,flux_max,rho_crit,n_max)\n",
    "    else:\n",
    "        q0 = calcn_flow(n0,flux_max,rho_crit,n_max)\n",
    "    for i in range(1,I-1):\n",
    "        gi_next = min(q0[i], q0[i+1])*(n0[i] <= n0[i+1]) \\\n",
    "                +q0[i]*(n0[i+1] < n0[i])*(n0[i] <= rho_crit) \\\n",
    "                +flux_max*(n0[i+1] < rho_crit)*(rho_crit < n0[i]) \\\n",
    "                +q0[i+1]*(rho_crit <= n0[i+1])*(n0[i+1] < n0[i])\n",
    "                \n",
    "        gi_prev = min(q0[i-1], q0[i])*(n0[i-1] <= n0[i]) \\\n",
    "                +q0[i-1]*(n0[i] < n0[i-1])*(n0[i-1] <= rho_crit) \\\n",
    "                +flux_max*(n0[i] < rho_crit)*(rho_crit < n0[i-1]) \\\n",
    "                +q0[i]*(rho_crit <= n0[i])*(n0[i] < n0[i-1])\n",
    "                \n",
    "        n[i] = n0[i] - lam*(gi_next - gi_prev)\n",
    "    \n",
    "    \n",
    "    # Entering Cell\n",
    "    g1_next = min(q0[0], q0[1])*(n0[0] <= n0[1]) \\\n",
    "            +q0[0]*(n0[1] < n0[0])*(n0[0] <= rho_crit) \\\n",
    "            +flux_max*(n0[1] < rho_crit)*(rho_crit < n0[0]) \\\n",
    "            +q0[1]*(rho_crit <= n0[1])*(n0[1] < n0[0])\n",
    "    g1_prev = min(q0[0], flux_inflow)*(n0[0] > rho_crit) \\\n",
    "        +flux_inflow*(n0[0] <= rho_crit)\n",
    "    n[0]=n0[0]-lam*( g1_next - g1_prev )\n",
    "    \n",
    "    \n",
    "    #Leaving Cell\n",
    "    gI_next = min(q0[I-1],flux_outflow)*(n0[I-1] <= rho_crit) \\\n",
    "        +q0[I-1]*(n0[I-1] > rho_crit)\n",
    "    gI_prev = min(q0[I-2], q0[I-1])*(n0[I-2] <= n0[I-1]) \\\n",
    "            +q0[I-2]*(n0[I-1] < n0[I-2])*(n0[I-2] <= rho_crit) \\\n",
    "            +flux_max*(n0[I-1] < rho_crit)*(rho_crit < n0[I-2]) \\\n",
    "            +q0[I-2]*(rho_crit <= n0[I-1])*(n0[I-1] < n0[I-2])\n",
    "    n[I-1]=n0[I-1]-lam*( gI_next - gI_prev )\n",
    "        \n",
    "    return n"
   ]
  },
  {
   "cell_type": "markdown",
   "metadata": {},
   "source": [
    "step 1 of the algorithm: calculation of the indices"
   ]
  },
  {
   "cell_type": "code",
   "execution_count": 18,
   "metadata": {
    "collapsed": true
   },
   "outputs": [],
   "source": [
    "def resample(weight, N): \n",
    "    # w - normalized weights, N - number of particles\n",
    "    k = np.zeros(N)\n",
    "    for i in range (N):\n",
    "        rndm = np.random.multinomial(1, weight, size=1, )[0]\n",
    "        k[i] = np.where(rndm==1)[0][0] #take the index of vector \n",
    "    return k"
   ]
  },
  {
   "cell_type": "code",
   "execution_count": 19,
   "metadata": {
    "collapsed": true
   },
   "outputs": [],
   "source": [
    "def Calman_recursion(f_phi, W, V, H, y): #f_phi, W, V, H[t+1], y[t+1]\n",
    "    mu_f = f_phi #dimension R^k (~ nimber of existed elements in vector y)\n",
    "    C_f = W # dimension R^(M*M)\n",
    "    matrix = reduce(np.dot, [H, C_f, H.T]) + V\n",
    "    K = np.dot(np.dot(C_f,H.T), matrix.I)\n",
    "    mu[t+1] = mu_f + np.dot(K, y - np.dot(H,mu_f))\n",
    "    C[t+1] = np.dot(np.eye(M) - np.dot(K, H),C_f)\n",
    "    return mu[t+1], C[t+1]"
   ]
  },
  {
   "cell_type": "markdown",
   "metadata": {},
   "source": [
    "calculation of the parameters of the Normal distribution to sample new hidden densities vector"
   ]
  },
  {
   "cell_type": "code",
   "execution_count": 20,
   "metadata": {
    "collapsed": true
   },
   "outputs": [],
   "source": [
    "def Calman_recursion_paper(f_phi, y, v, w, M): \n",
    "    \n",
    "    mu_f = f_phi \n",
    "    mu = np.zeros(M)\n",
    "    H = np.zeros((2, M))\n",
    "    H[0,0] = 1\n",
    "    H[1, M-1] = 1\n",
    "    K = np.zeros((M, 2))\n",
    "    K[0,0] = w/(w+v)\n",
    "    K[M-1,1] = w/(w+v)\n",
    "    \n",
    "    C = w * np.eye(M)\n",
    "    C[0,0] = C[0,0] * v/(w+v)\n",
    "    C[M-1,M-1] = C[M-1,M-1] * v/(w+v)\n",
    "    mu = mu_f\n",
    "\n",
    "    mu[0] = mu[0] + w/(w+v)*(y[0]-mu_f[0])\n",
    "    mu[M-1] = mu[M-1] + w/(w+v)*(y[1]-mu_f[M-1]) \n",
    "    var_mtrx = np.eye(2)*(v+w)\n",
    "\n",
    "    return mu, C, var_mtrx "
   ]
  },
  {
   "cell_type": "markdown",
   "metadata": {
    "collapsed": true
   },
   "source": [
    "find weighted quantiles"
   ]
  },
  {
   "cell_type": "code",
   "execution_count": 21,
   "metadata": {
    "collapsed": true
   },
   "outputs": [],
   "source": [
    "def find_quantiles(param, weights):\n",
    "    # to make zip array (by pairs weight - value for the parameter)  - sorted array\n",
    "\n",
    "    global combined_res\n",
    "    global t\n",
    "    param = param[:,0,0]\n",
    "    param = np.array(param)\n",
    "    combined = np.vstack((param, weights)).T\n",
    "    combined = combined[np.argsort(combined[:,0])] #ascent by the value\n",
    "\n",
    "    combined_res[t] = combined\n",
    "\n",
    "    result = [0,0]\n",
    "    summ  = 0.\n",
    "    kk=0\n",
    "\n",
    "    while summ < 0.05:\n",
    "        summ += combined[kk,1]\n",
    "        kk += 1\n",
    "    result[0] = combined[kk,0]\n",
    "    \n",
    "    summ  = 0.\n",
    "    kk=0\n",
    "    while summ < 0.95:\n",
    "        summ += combined[kk,1]\n",
    "        kk += 1\n",
    "\n",
    "    result[1] = combined[kk-1,0]\n",
    "    return result[0], result[1]"
   ]
  },
  {
   "cell_type": "markdown",
   "metadata": {},
   "source": [
    "computing particle weights and new vector z_t propagation"
   ]
  },
  {
   "cell_type": "code",
   "execution_count": 22,
   "metadata": {
    "collapsed": true
   },
   "outputs": [],
   "source": [
    "def comp_weights_propagate(theta, phi, y, v, w, N, M): # y[t+1],  should be given; for each time step t\n",
    "\n",
    "    theta_new = np.zeros([N, 1, M])\n",
    "    mu = np.zeros([N, 1, M])\n",
    "    C = np.zeros([N, M, M])\n",
    "    vect_theta = np.zeros(M)\n",
    "    v_f = 25.\n",
    "    from scipy.stats import norm\n",
    "    regul = np.zeros(N)\n",
    "    weight = np.zeros(N)\n",
    "    weightss = np.zeros(N)\n",
    "    for i in range(N):\n",
    "\n",
    "        f_phi = theta[i][0]\n",
    "\n",
    "        mu[i], C[i], var_mtrx = Calman_recursion_paper(f_phi, y, v, w, M)\n",
    "        weight[i] = multivariate_normal.pdf(y,mean=[f_phi[0], f_phi[M-1]], cov=var_mtrx)\n",
    "        regul[i] = norm.pdf(phi[i][0][0]/phi[i][0][1]/300., v_f, 5.)\n",
    "    sum_w = np.sum(weight)/N\n",
    "    bayes_f = sum_w/N\n",
    "    sum_w = np.sum(np.dot(weight, regul.T))\n",
    "    for i in range(N): \n",
    "        weight[i] = weight[i]*regul[i]/sum_w\n",
    "    lower, upper = find_quantiles(phi, weight)\n",
    "    \n",
    "    k = resample(weight, N)\n",
    "    for i in range(N):\n",
    "        indexx = int(k[i])\n",
    "        while True:\n",
    "\n",
    "            vect_theta = np.random.multivariate_normal(mean=mu[indexx][0], cov=C[indexx])\n",
    "            sum_neg = sum(g < 0 for g in vect_theta)\n",
    "            sum_big = sum(g > 0.15 for g in vect_theta)\n",
    "            if (sum_neg == 0)&(sum_big == 0):\n",
    "                break\n",
    "        theta_new[i][0] = vect_theta\n",
    "    result = 0.\n",
    "\n",
    "    result = np.dot(phi[:,0,0], weight.T)\n",
    "    for i in range(N):\n",
    "        rndm_ind = randint(0, N-1)\n",
    "        indexx = int(k[rndm_ind])\n",
    "        eps = 2\n",
    "        phi[i][0][0] = np.random.uniform(low = phi[indexx][0][0] - eps, high=phi[indexx][0][0] + eps, size=1) \n",
    "        \n",
    "    \n",
    "    return theta_new, phi, result, bayes_f, lower, upper"
   ]
  },
  {
   "cell_type": "markdown",
   "metadata": {},
   "source": [
    "reading the data"
   ]
  },
  {
   "cell_type": "code",
   "execution_count": 3,
   "metadata": {},
   "outputs": [],
   "source": [
    "#reading the data\n",
    "tmp = pd.read_csv('24-03-2015_agg_by_lanes_new3.csv') # 5min aggregation day with acc\n",
    "# tmp = pd.read_csv('14-04-2015_5mins.csv') # day without acc\n",
    "\n"
   ]
  },
  {
   "cell_type": "code",
   "execution_count": 4,
   "metadata": {},
   "outputs": [
    {
     "data": {
      "text/html": [
       "<div>\n",
       "<style>\n",
       "    .dataframe thead tr:only-child th {\n",
       "        text-align: right;\n",
       "    }\n",
       "\n",
       "    .dataframe thead th {\n",
       "        text-align: left;\n",
       "    }\n",
       "\n",
       "    .dataframe tbody tr th {\n",
       "        vertical-align: top;\n",
       "    }\n",
       "</style>\n",
       "<table border=\"1\" class=\"dataframe\">\n",
       "  <thead>\n",
       "    <tr style=\"text-align: right;\">\n",
       "      <th></th>\n",
       "      <th>Unnamed: 0</th>\n",
       "      <th>date</th>\n",
       "      <th>sensor pair</th>\n",
       "      <th>occupancy</th>\n",
       "      <th>flow</th>\n",
       "      <th>sum_speed</th>\n",
       "      <th>speed</th>\n",
       "      <th>time</th>\n",
       "      <th>day_week</th>\n",
       "      <th>density</th>\n",
       "    </tr>\n",
       "  </thead>\n",
       "  <tbody>\n",
       "    <tr>\n",
       "      <th>0</th>\n",
       "      <td>0</td>\n",
       "      <td>2015-03-24 00:00:00</td>\n",
       "      <td>0.0</td>\n",
       "      <td>1.868333</td>\n",
       "      <td>132.0</td>\n",
       "      <td>1058.0</td>\n",
       "      <td>96.181818</td>\n",
       "      <td>00:00:00</td>\n",
       "      <td>1</td>\n",
       "      <td>0.003114</td>\n",
       "    </tr>\n",
       "    <tr>\n",
       "      <th>1</th>\n",
       "      <td>1</td>\n",
       "      <td>2015-03-24 00:05:00</td>\n",
       "      <td>0.0</td>\n",
       "      <td>1.900000</td>\n",
       "      <td>24.0</td>\n",
       "      <td>232.0</td>\n",
       "      <td>116.000000</td>\n",
       "      <td>00:05:00</td>\n",
       "      <td>1</td>\n",
       "      <td>0.003167</td>\n",
       "    </tr>\n",
       "    <tr>\n",
       "      <th>2</th>\n",
       "      <td>2</td>\n",
       "      <td>2015-03-24 00:10:00</td>\n",
       "      <td>0.0</td>\n",
       "      <td>1.373636</td>\n",
       "      <td>144.0</td>\n",
       "      <td>1214.0</td>\n",
       "      <td>101.166667</td>\n",
       "      <td>00:10:00</td>\n",
       "      <td>1</td>\n",
       "      <td>0.002289</td>\n",
       "    </tr>\n",
       "    <tr>\n",
       "      <th>3</th>\n",
       "      <td>3</td>\n",
       "      <td>2015-03-24 00:15:00</td>\n",
       "      <td>0.0</td>\n",
       "      <td>2.354286</td>\n",
       "      <td>132.0</td>\n",
       "      <td>1132.0</td>\n",
       "      <td>102.909091</td>\n",
       "      <td>00:15:00</td>\n",
       "      <td>1</td>\n",
       "      <td>0.003924</td>\n",
       "    </tr>\n",
       "    <tr>\n",
       "      <th>4</th>\n",
       "      <td>4</td>\n",
       "      <td>2015-03-24 00:20:00</td>\n",
       "      <td>0.0</td>\n",
       "      <td>2.311429</td>\n",
       "      <td>156.0</td>\n",
       "      <td>1290.0</td>\n",
       "      <td>99.230769</td>\n",
       "      <td>00:20:00</td>\n",
       "      <td>1</td>\n",
       "      <td>0.003852</td>\n",
       "    </tr>\n",
       "  </tbody>\n",
       "</table>\n",
       "</div>"
      ],
      "text/plain": [
       "   Unnamed: 0                 date  sensor pair  occupancy   flow  sum_speed  \\\n",
       "0           0  2015-03-24 00:00:00          0.0   1.868333  132.0     1058.0   \n",
       "1           1  2015-03-24 00:05:00          0.0   1.900000   24.0      232.0   \n",
       "2           2  2015-03-24 00:10:00          0.0   1.373636  144.0     1214.0   \n",
       "3           3  2015-03-24 00:15:00          0.0   2.354286  132.0     1132.0   \n",
       "4           4  2015-03-24 00:20:00          0.0   2.311429  156.0     1290.0   \n",
       "\n",
       "        speed      time  day_week   density  \n",
       "0   96.181818  00:00:00         1  0.003114  \n",
       "1  116.000000  00:05:00         1  0.003167  \n",
       "2  101.166667  00:10:00         1  0.002289  \n",
       "3  102.909091  00:15:00         1  0.003924  \n",
       "4   99.230769  00:20:00         1  0.003852  "
      ]
     },
     "execution_count": 4,
     "metadata": {},
     "output_type": "execute_result"
    }
   ],
   "source": [
    "tmp.head()"
   ]
  },
  {
   "cell_type": "code",
   "execution_count": 5,
   "metadata": {},
   "outputs": [
    {
     "data": {
      "text/plain": [
       "287"
      ]
     },
     "execution_count": 5,
     "metadata": {},
     "output_type": "execute_result"
    }
   ],
   "source": [
    "len(tmp)/3"
   ]
  },
  {
   "cell_type": "markdown",
   "metadata": {
    "collapsed": true
   },
   "source": [
    "extracting values and putting into right format"
   ]
  },
  {
   "cell_type": "code",
   "execution_count": 25,
   "metadata": {
    "collapsed": true
   },
   "outputs": [],
   "source": [
    "flux = np.zeros((tmp[tmp['sensor pair']==0.].shape[0],2))\n",
    "flux[:,0] = tmp['flow'][tmp['sensor pair']==0.]/12./300\n",
    "flux[:,1] = tmp['flow'][tmp['sensor pair']==2.]/12./300\n",
    "\n",
    "\n",
    "y = np.zeros((tmp[tmp['sensor pair']==0.].shape[0],2))\n",
    "y[:,0] = tmp['density'][tmp['sensor pair']==0.]\n",
    "y[:,1] = tmp['density'][tmp['sensor pair']==2.]\n"
   ]
  },
  {
   "cell_type": "markdown",
   "metadata": {},
   "source": [
    "main code"
   ]
  },
  {
   "cell_type": "code",
   "execution_count": 40,
   "metadata": {},
   "outputs": [
    {
     "name": "stdout",
     "output_type": "stream",
     "text": [
      "y[t] [0.01065729 0.        ]\n",
      " \n"
     ]
    },
    {
     "data": {
      "application/vnd.jupyter.widget-view+json": {
       "model_id": "d7059a131a5b4b20a03387212b1288a8"
      }
     },
     "metadata": {},
     "output_type": "display_data"
    },
    {
     "name": "stdout",
     "output_type": "stream",
     "text": [
      "\n"
     ]
    }
   ],
   "source": [
    "N = 1000 # number of particles 10000 - optimal, but running time ~1hour\n",
    "M = 3 # number of cells\n",
    "\n",
    "v = 0.00002 #errors\n",
    "w = 0.00001\n",
    "\n",
    "compare_models = False # True for using parab diagram, False for triangular\n",
    "\n",
    "V = v * np.eye(2)\n",
    "W = w * np.eye(M)\n",
    "\n",
    "theta = np.zeros([N, 1, M])\n",
    "theta_new = np.zeros([N, 1, M])\n",
    "# print theta\n",
    "\n",
    "I=M # number of cells\n",
    "L=900. # Length of the Road\n",
    "# V_max=1. # Speed limit\n",
    "n_max=0.17 # Maximum density = 1/6 meters^-1\n",
    "cfl=0.5\n",
    "t=0\n",
    "t_max= 286 #10 #286  value for all day\n",
    "\n",
    "phi = np.zeros([N, 1, 3]) #for N particles flux_max, rho_crit, n_max\n",
    "phi_result = np.zeros([t_max-1, 1, 3]) #for all time flux_max, rho_crit, n_max\n",
    "weight = np.zeros(N)\n",
    "bayes_f = np.zeros(t_max)\n",
    "lower = np.zeros(t_max-1) #value for quantiles\n",
    "upper = np.zeros(t_max-1) #\n",
    "combined_res = np.zeros([t_max-1, N, 2])\n",
    "\n",
    "n0 = np.linspace(y[0][0], y[0][1], I)# Initial condition : as approximation between boundary conditions\n",
    "\n",
    "# print 'initial value n0', n0 \n",
    "\n",
    "dx=L/I # Space Discretisation\n",
    "dt = 300 #seconds, if dt = 1 hour\n",
    "lam=1/dx/30\n",
    "\n",
    "for i in range(N):\n",
    "    phi[i][0][0] = np.random.uniform(low=120.0, high=130.0, size=1) # different values of initial flux_max\n",
    "    phi[i][0][1] =  0.017 # rho_crit without changes\n",
    "    phi[i][0][2] =  0.16# maximum value for density\n",
    "\n",
    "    flux_inflow, flux_outflow = flux[t][0], flux[t][1] # Set the inflow condition, \n",
    "                                                #allowed outflow - for each t data from the history\n",
    "    \n",
    "    # receive f_phi(theta_0)\n",
    "    theta[i][0] = calcn_propagation(n0,lam,flux_inflow,flux_outflow, phi[i][0][1], phi[i][0][2],phi[i][0][0], compare_models) \n",
    "    \n",
    "\n",
    "print 'y[t]', y[t]    \n",
    "\n",
    "theta_new, phi, result, bayes_f[0], lower[t], upper[t] = comp_weights_propagate(theta, phi, y[t+1], v, w, N, M) # y[t+1], where t = 0\n",
    "phi_result[t][0][0] = result\n",
    "\n",
    "result = 0.\n",
    "print ' '\n",
    "t =t+1\n",
    "\n",
    "for t in tqdm_notebook(range(1,t_max-1)):\n",
    "#     print 'iteration: ', t\n",
    "    for i in range (N):\n",
    "        n0 = theta_new[i][0]\n",
    "#         print ''\n",
    "        flux_inflow, flux_outflow = flux[t][0], flux[t][1]\n",
    "        theta[i][0] = calcn_propagation(n0,lam,flux_inflow,flux_outflow, phi[i][0][1], phi[i][0][2],phi[i][0][0], compare_models) \n",
    "    theta_new, phi, result, bayes_f[t], lower[t], upper[t] = comp_weights_propagate(theta, phi, y[t+1], v, w, N, M) # y[t+1], where t = 0\n",
    "    phi_result[t][0][0] = result\n",
    "    t = t + 1"
   ]
  },
  {
   "cell_type": "markdown",
   "metadata": {},
   "source": [
    "received day without accidents, 10000 particles"
   ]
  },
  {
   "cell_type": "code",
   "execution_count": 128,
   "metadata": {},
   "outputs": [
    {
     "data": {
      "image/png": "[encoded data removed]",
      "text/plain": [
       "<matplotlib.figure.Figure at 0x10ecb6410>"
      ]
     },
     "metadata": {},
     "output_type": "display_data"
    }
   ],
   "source": [
    "fig = plt.figure(1, figsize=(17, 5))\n",
    "plt.fill_between(range(t_max-1), lower, upper, facecolor='blue', alpha=.2)\n",
    "plt.plot(range(t_max-1),phi_result[:,0,0])\n",
    "# plt.plot(range(t_max-1),median_computed)\n",
    "plt.axvline(x=87,linestyle = 'dashed', color = 'black')#accident start\n",
    "plt.axvline(x=101,linestyle = 'dashed', color = 'black')#finish\n",
    "plt.xticks(np.arange(0, 286, 12.0), range(24))\n",
    "plt.ylabel('Capacity [veh/5min]')\n",
    "plt.xlabel('Hour of the day')\n",
    "plt.show()"
   ]
  },
  {
   "cell_type": "markdown",
   "metadata": {},
   "source": [
    "received day with accident, 10000 particles"
   ]
  },
  {
   "cell_type": "code",
   "execution_count": 119,
   "metadata": {},
   "outputs": [
    {
     "data": {
      "image/png": "[encoded data removed]",
      "text/plain": [
       "<matplotlib.figure.Figure at 0x10ecb6110>"
      ]
     },
     "metadata": {},
     "output_type": "display_data"
    }
   ],
   "source": [
    "fig = plt.figure(1, figsize=(17, 5))\n",
    "plt.fill_between(range(t_max-1), lower, upper, facecolor='blue', alpha=.2)\n",
    "plt.plot(range(t_max-1),phi_result[:,0,0])\n",
    "# plt.plot(range(t_max-1),median_computed)\n",
    "plt.axvline(x=87,linestyle = 'dashed', color = 'black')#accident start\n",
    "plt.axvline(x=101,linestyle = 'dashed', color = 'black')#finish\n",
    "plt.xticks(np.arange(0, 286, 12.0), range(24))\n",
    "plt.ylabel('Capacity [veh/5min]')\n",
    "plt.xlabel('Hour of the day')\n",
    "plt.show()"
   ]
  },
  {
   "cell_type": "code",
   "execution_count": 114,
   "metadata": {
    "collapsed": true
   },
   "outputs": [],
   "source": [
    "median_computed = np.zeros(t_max-1)\n",
    "for i in range(t_max-1):\n",
    "    median_computed[i] = np.dot(combined_res[i,:,0], combined_res[i,:,1].T)"
   ]
  },
  {
   "cell_type": "markdown",
   "metadata": {},
   "source": [
    "if compare_models == True"
   ]
  },
  {
   "cell_type": "code",
   "execution_count": 329,
   "metadata": {
    "collapsed": true
   },
   "outputs": [],
   "source": [
    "parabolistic = bayes_f"
   ]
  },
  {
   "cell_type": "markdown",
   "metadata": {},
   "source": [
    "if compare_models == False"
   ]
  },
  {
   "cell_type": "code",
   "execution_count": 332,
   "metadata": {
    "collapsed": true
   },
   "outputs": [],
   "source": [
    "triangular = bayes_f"
   ]
  },
  {
   "cell_type": "code",
   "execution_count": 324,
   "metadata": {
    "collapsed": true
   },
   "outputs": [
    {
     "name": "stdout",
     "output_type": "stream",
     "text": [
      "[4.17253480e+00 2.54629596e+00 2.73949551e+00 1.85281106e+00\n",
      " 2.24596689e+00 2.34561449e+00 2.42989366e+00 1.95190559e+00\n",
      " 2.01017047e+00 2.05358517e+00 2.28778458e+00 2.03808283e+00\n",
      " 2.32892529e+00 2.53373093e+00 2.37223523e+00 3.45889742e+00\n",
      " 1.92279577e+00 2.36768409e+00 1.86083400e+00 2.19045763e+00\n",
      " 2.55104281e+00 2.09372903e+00 2.19791853e+00 2.22050192e+00\n",
      " 2.26721337e+00 2.15650732e+00 2.11697756e+00 2.35351690e+00\n",
      " 2.28009029e+00 2.50179348e+00 2.17387488e+00 2.20977466e+00\n",
      " 1.98483312e+00 2.39893452e+00 2.46552154e+00 2.45382629e+00\n",
      " 2.20686101e+00 2.24253523e+00 1.96249643e+00 2.24798292e+00\n",
      " 1.98287999e+00 2.33749886e+00 2.17708422e+00 2.15683947e+00\n",
      " 2.29704728e+00 2.12772691e+00 2.11087348e+00 2.29655390e+00\n",
      " 2.11039951e+00 2.19551947e+00 2.22851105e+00 2.01949843e+00\n",
      " 2.01480169e+00 2.12318525e+00 1.85119703e+00 2.12856055e+00\n",
      " 2.11308623e+00 2.06519036e+00 1.84488368e+00 2.10020318e+00\n",
      " 1.79291553e+00 1.73410460e+00 1.78501518e+00 1.40020459e+00\n",
      " 1.22802618e+00 1.60683899e+00 1.67197578e+00 1.45556985e+00\n",
      " 1.34177931e+00 1.00387936e+00 7.96789443e-01 8.07146865e-01\n",
      " 4.54277361e-01 5.75445511e-01 2.52804814e-01 1.01248007e-01\n",
      " 9.08452623e-02 7.52531501e-02 5.73671982e-02 4.13931152e-02\n",
      " 5.59650529e-02 7.96459274e-02 6.39928067e-02 2.82931117e-02\n",
      " 2.02519143e-05 2.59717555e-05 2.96609902e-01 4.03644988e-04\n",
      " 5.97157875e-15 3.72159936e-02 1.89183915e-01 1.07259653e-01\n",
      " 8.54334989e-02 2.56310894e+00 1.75507373e+00 6.72247568e-01\n",
      " 6.50093354e-01 4.86153820e-01 4.02867479e-01 1.44909242e-01\n",
      " 1.68997048e-01 4.63025128e-01 6.11118504e-01 2.68526868e-01\n",
      " 8.16553821e-01 4.96669730e-01 5.73780114e-01 5.74985238e-01\n",
      " 6.25849631e-01 3.38532251e-01 4.44763838e-01 2.23834566e-01\n",
      " 3.99824188e-01 3.00450217e-01 3.28980541e-01 1.69630856e-01\n",
      " 2.97561067e-01 3.99445998e-01 6.31965476e-01 8.19353704e-01\n",
      " 2.71430969e-01 4.38246174e-01 3.92252093e-01 6.38155099e-01\n",
      " 4.19799831e-01 1.97421977e-01 3.31861263e-01 1.37241554e-01\n",
      " 3.39742400e-01 2.41251127e-01 4.38118519e-01 1.84899331e-01\n",
      " 3.86302801e-01 2.85383859e-01 1.64979552e-01 9.21687874e-02\n",
      " 2.75242416e-01 3.07308460e-01 5.45458373e-01 6.37844425e-01\n",
      " 8.99903527e-01 8.53399762e-01 7.73326261e-01 1.08801255e+00\n",
      " 6.97997493e-01 7.03638947e-01 7.15112106e-01 5.42339508e-01\n",
      " 2.76551526e-01 2.99991722e-01 2.37000686e-01 2.60488939e-01\n",
      " 1.88120568e-01 1.54389276e-01 1.76492371e-01 1.36521973e-01\n",
      " 3.13484826e-01 4.04125224e-01 3.67366533e-01 2.64033296e-01\n",
      " 2.93039196e-01 3.46374386e-01 2.17732746e-01 5.58869555e-01\n",
      " 2.53335366e-01 2.69249819e-01 1.34459938e-01 1.62049391e-01\n",
      " 3.11395178e-01 3.71472530e-01 1.55200780e-01 3.40495762e-01\n",
      " 2.23321993e-01 7.61203328e-02 3.54116347e-01 1.53344908e-01\n",
      " 7.05551708e-02 2.68782284e-01 1.83164808e-01 7.11497886e-02\n",
      " 2.20427541e-01 1.79478964e-01 8.04604739e-02 2.15497753e-02\n",
      " 1.08695882e-02 1.01596843e-08 6.11006358e-15 1.04415848e+00\n",
      " 1.23071448e-01 9.92148678e-02 3.41176691e-01 1.22212357e-02\n",
      " 1.78614884e-01 7.16127545e-01 2.74735055e-01 2.35776956e-01\n",
      " 1.95519023e-02 3.88511750e-01 4.29560231e-01 5.73875147e-01\n",
      " 7.70915668e-01 1.45268000e-01 6.50792625e-01 3.06094775e-01\n",
      " 1.85014704e-01 1.15321965e-01 1.27632873e-01 2.90366172e-01\n",
      " 3.18636037e-01 5.31177963e-01 1.00722454e+00 2.96584309e+00\n",
      " 1.75891999e+00 5.66487802e-01 4.19638741e-01 3.85115955e-01\n",
      " 4.57663565e-01 4.08034871e-01 5.74020205e-01 3.25201652e-01\n",
      " 5.06303186e-01 4.53277973e-01 6.33758229e-01 6.43514901e-01\n",
      " 6.80360113e-01 8.59599061e-01 1.00951985e+00 8.26672768e-01\n",
      " 1.09433715e+00 1.13308481e+00 1.11210898e+00 9.93374136e-01\n",
      " 1.40228658e+00 1.67081788e+00 1.44774878e+00 1.33294870e+00\n",
      " 1.61800140e+00 1.50214996e+00 1.30989571e+00 1.61438131e+00\n",
      " 1.65338955e+00 1.62348791e+00 1.73890089e+00 2.03640698e+00\n",
      " 1.62870600e+00 2.08143357e+00 1.95335427e+00 2.03716024e+00\n",
      " 1.89566962e+00 1.99342221e+00 2.12104797e+00 2.08223433e+00\n",
      " 1.97924124e+00 1.98274924e+00 2.00353421e+00 2.07481712e+00\n",
      " 1.98174753e+00 2.11180542e+00 1.90247442e+00 1.38154086e+00\n",
      " 1.28303082e+00 8.18281700e-01 1.34669766e+00 1.36362706e+00\n",
      " 1.82824540e+00 1.92892953e+00 2.15114541e+00 1.85154400e+00\n",
      " 2.31065828e+00 2.11474615e+00 2.22729063e+00 2.52735604e+00\n",
      " 2.18517052e+00 2.40352574e+00 2.20859149e+00 2.34816955e+00\n",
      " 2.24112889e+00 2.22443859e+00 2.48090803e+00 2.37863625e+00\n",
      " 2.94494991e+00 2.12445735e+00 2.31215180e+00 2.12271001e+00\n",
      " 2.32055936e+00 0.00000000e+00]\n",
      "[5.00390894e+00 3.88916135e+00 3.84073239e+00 2.86138024e+00\n",
      " 3.23133570e+00 3.42865124e+00 3.51748788e+00 3.01824670e+00\n",
      " 3.11235669e+00 3.12798524e+00 3.36244023e+00 2.98656867e+00\n",
      " 3.39290239e+00 3.54757351e+00 3.44059538e+00 4.31624501e+00\n",
      " 2.86890621e+00 3.37616130e+00 2.96222344e+00 3.32088650e+00\n",
      " 3.52459176e+00 3.14705441e+00 3.24898359e+00 3.19342583e+00\n",
      " 3.23395503e+00 3.18737384e+00 3.06804098e+00 3.39199293e+00\n",
      " 3.29108536e+00 3.50451517e+00 3.28756861e+00 3.21127705e+00\n",
      " 2.87870405e+00 3.37550110e+00 3.49882663e+00 3.37311820e+00\n",
      " 3.13003940e+00 3.24738328e+00 2.99010231e+00 3.27391748e+00\n",
      " 2.94593344e+00 3.36306535e+00 3.22092617e+00 3.27577392e+00\n",
      " 3.46558841e+00 3.18253233e+00 3.22015784e+00 3.29250262e+00\n",
      " 2.95725445e+00 3.17117943e+00 3.25039266e+00 3.03212624e+00\n",
      " 2.92834303e+00 3.24956922e+00 2.91074267e+00 3.28595650e+00\n",
      " 3.16119825e+00 3.13780874e+00 2.84604917e+00 3.12724676e+00\n",
      " 2.75859294e+00 2.70766317e+00 2.72982580e+00 2.22712556e+00\n",
      " 2.09687991e+00 2.55871029e+00 2.40654315e+00 2.22796626e+00\n",
      " 2.15164726e+00 1.72786129e+00 1.40300787e+00 1.46210827e+00\n",
      " 9.13947499e-01 1.17598168e+00 5.61436516e-01 2.64115284e-01\n",
      " 2.66880123e-01 2.37067338e-01 1.83444938e-01 1.35557827e-01\n",
      " 1.79002293e-01 2.34839211e-01 1.99626047e-01 1.00828001e-01\n",
      " 1.52612464e-04 9.43554952e-05 3.78433012e-01 4.76380204e-04\n",
      " 3.49092192e-15 2.60459125e-04 5.05586411e-04 1.97080543e-01\n",
      " 2.54327877e-02 2.46488343e-01 5.64446047e-01 5.36304741e-01\n",
      " 8.22194750e-01 9.49878718e-01 8.56689108e-01 3.17045018e-01\n",
      " 3.69659059e-01 9.59193442e-01 1.16024526e+00 5.21154015e-01\n",
      " 1.48486038e+00 9.01997878e-01 1.03714862e+00 1.01338882e+00\n",
      " 1.10528174e+00 6.26950552e-01 8.30707702e-01 4.63154478e-01\n",
      " 8.13113928e-01 6.25150077e-01 6.76516656e-01 3.75887956e-01\n",
      " 6.23155143e-01 8.10724765e-01 1.20937855e+00 1.40391105e+00\n",
      " 5.23184359e-01 8.57759787e-01 8.19061422e-01 1.18960834e+00\n",
      " 8.02645062e-01 4.31364125e-01 7.12463344e-01 3.11247277e-01\n",
      " 7.27582339e-01 5.21236977e-01 8.72057104e-01 4.13228841e-01\n",
      " 8.14006000e-01 6.00790435e-01 3.78314620e-01 2.33656329e-01\n",
      " 6.19825108e-01 7.02215759e-01 1.04557033e+00 1.16341918e+00\n",
      " 1.53355379e+00 1.46408390e+00 1.35757319e+00 1.79864988e+00\n",
      " 1.24292392e+00 1.27989441e+00 1.30001337e+00 1.02406705e+00\n",
      " 5.78374707e-01 6.63254510e-01 5.33098507e-01 5.82719263e-01\n",
      " 4.48922700e-01 4.07517934e-01 4.38732418e-01 3.55850729e-01\n",
      " 7.33629687e-01 8.72711353e-01 7.78412336e-01 5.97844560e-01\n",
      " 6.78690134e-01 7.70121992e-01 5.02686236e-01 1.18177956e+00\n",
      " 5.59361766e-01 5.97806270e-01 3.15316178e-01 3.68027669e-01\n",
      " 7.10806505e-01 7.83069066e-01 3.63006763e-01 7.57201264e-01\n",
      " 5.22316326e-01 1.93446755e-01 8.18555757e-01 3.69464340e-01\n",
      " 1.98679990e-01 6.43399635e-01 4.27232360e-01 1.88774059e-01\n",
      " 5.37042210e-01 4.38377033e-01 2.11713779e-01 6.50479638e-02\n",
      " 3.64963385e-02 4.30199972e-08 1.35983469e-15 3.20075033e-05\n",
      " 4.30529898e-04 8.85396354e-02 7.69806294e-05 5.21755257e-04\n",
      " 1.74894292e-05 1.58737398e+00 3.92839588e-01 2.42826254e-03\n",
      " 1.87375574e-04 2.27865506e-03 6.38420302e-01 7.77462317e-01\n",
      " 6.23621969e-02 3.77049132e-02 5.92828644e-01 1.63778834e-02\n",
      " 3.54822372e-01 4.54853156e-01 2.12166112e-01 2.25782321e-01\n",
      " 1.20895966e+00 2.15475010e-01 2.58814385e-01 2.29964660e+00\n",
      " 3.03843776e+00 1.19411083e+00 1.05310079e+00 8.09393137e-01\n",
      " 6.75494136e-01 5.70943045e-01 6.79711606e-01 4.72295794e-01\n",
      " 7.56766678e-01 7.95835391e-01 1.12167278e+00 1.17861739e+00\n",
      " 1.21821111e+00 1.51913934e+00 1.64412709e+00 1.35662145e+00\n",
      " 1.76435392e+00 1.80974413e+00 1.78952551e+00 1.63299562e+00\n",
      " 2.21966025e+00 2.55376122e+00 2.10155619e+00 2.07299674e+00\n",
      " 2.39129355e+00 2.33161381e+00 2.07230359e+00 2.48394096e+00\n",
      " 2.61721476e+00 2.47338997e+00 2.54209441e+00 2.89312475e+00\n",
      " 2.36026395e+00 2.89487682e+00 2.73010994e+00 2.89004802e+00\n",
      " 2.74515410e+00 2.84555660e+00 3.03614529e+00 3.06288363e+00\n",
      " 2.94431777e+00 2.87387313e+00 2.79781948e+00 3.02656239e+00\n",
      " 2.93329225e+00 3.08856766e+00 2.81807266e+00 2.28297637e+00\n",
      " 2.18905346e+00 1.59764593e+00 2.35700944e+00 2.35826142e+00\n",
      " 2.70778948e+00 2.87147714e+00 3.11800827e+00 2.69924180e+00\n",
      " 3.31920231e+00 2.95029222e+00 3.15191293e+00 3.54693904e+00\n",
      " 3.10871596e+00 3.31120279e+00 3.19252413e+00 3.25614239e+00\n",
      " 3.16640594e+00 3.17061198e+00 3.46148108e+00 3.29145608e+00\n",
      " 3.83290849e+00 2.95183962e+00 3.32769096e+00 3.01510337e+00\n",
      " 3.26208019e+00]\n"
     ]
    }
   ],
   "source": [
    "print parabolistic\n",
    "print triangular"
   ]
  },
  {
   "cell_type": "code",
   "execution_count": 333,
   "metadata": {},
   "outputs": [
    {
     "name": "stdout",
     "output_type": "stream",
     "text": [
      "5.06662372084905e-32\n"
     ]
    }
   ],
   "source": [
    "\n",
    "parabolistic = parabolistic[:-1]\n",
    "triangular = triangular[:-1]\n",
    "product_parab = reduce(mul, parabolistic, 1)\n",
    "product_triang = reduce(mul, triangular, 1)\n",
    "print product_parab/product_triang"
   ]
  },
  {
   "cell_type": "markdown",
   "metadata": {},
   "source": [
    "Bayes factor"
   ]
  },
  {
   "cell_type": "code",
   "execution_count": 327,
   "metadata": {},
   "outputs": [
    {
     "name": "stdout",
     "output_type": "stream",
     "text": [
      "5.834902613447734e-32\n"
     ]
    }
   ],
   "source": [
    "print product_parab/product_triang"
   ]
  },
  {
   "cell_type": "code",
   "execution_count": null,
   "metadata": {
    "collapsed": true
   },
   "outputs": [],
   "source": []
  }
 ],
 "metadata": {
  "kernelspec": {
   "display_name": "Python 2",
   "language": "python",
   "name": "python2"
  },
  "language_info": {
   "codemirror_mode": {
    "name": "ipython",
    "version": 2
   },
   "file_extension": ".py",
   "mimetype": "text/x-python",
   "name": "python",
   "nbconvert_exporter": "python",
   "pygments_lexer": "ipython2",
   "version": "2.7.13"
  }
 },
 "nbformat": 4,
 "nbformat_minor": 2
}
